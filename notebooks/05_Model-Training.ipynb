{
 "cells": [
  {
   "cell_type": "markdown",
   "metadata": {},
   "source": [
    "##### Model Training"
   ]
  },
  {
   "cell_type": "code",
   "execution_count": 1,
   "metadata": {},
   "outputs": [
    {
     "name": "stderr",
     "output_type": "stream",
     "text": [
      "d:\\Documents\\GitHub\\credit_line_eligibility\\venv\\Lib\\site-packages\\tqdm\\auto.py:21: TqdmWarning: IProgress not found. Please update jupyter and ipywidgets. See https://ipywidgets.readthedocs.io/en/stable/user_install.html\n",
      "  from .autonotebook import tqdm as notebook_tqdm\n"
     ]
    }
   ],
   "source": [
    "# For data manipulation\n",
    "import numpy as np\n",
    "import pandas as pd\n",
    "import matplotlib.pyplot as plt\n",
    "import seaborn as sns\n",
    "\n",
    "from sklearn.model_selection import train_test_split\n",
    "from sklearn.preprocessing import StandardScaler\n",
    "from imblearn.over_sampling import SMOTE\n",
    "from collections import Counter\n",
    "\n",
    "import optuna\n",
    "from sklearn.ensemble import RandomForestClassifier\n",
    "from sklearn.model_selection import cross_val_score\n",
    "from sklearn.metrics import accuracy_score, f1_score\n",
    "from sklearn.model_selection import train_test_split\n",
    "\n",
    "\n",
    "# For displaying all of the columns in dataframes\n",
    "pd.set_option('display.max_columns', None)\n",
    "\n",
    "#For ignoring warnings\n",
    "import warnings\n",
    "warnings.filterwarnings('ignore')"
   ]
  },
  {
   "cell_type": "code",
   "execution_count": 2,
   "metadata": {},
   "outputs": [],
   "source": [
    "# Loading the dataset\n",
    "df0 = pd.read_csv(r\"C:\\Users\\hp\\OneDrive\\Documents\\GitHub\\credit_line_eligibility\\data\\cleaned_data.csv\")\n"
   ]
  },
  {
   "cell_type": "code",
   "execution_count": 3,
   "metadata": {},
   "outputs": [
    {
     "data": {
      "text/html": [
       "<div>\n",
       "<style scoped>\n",
       "    .dataframe tbody tr th:only-of-type {\n",
       "        vertical-align: middle;\n",
       "    }\n",
       "\n",
       "    .dataframe tbody tr th {\n",
       "        vertical-align: top;\n",
       "    }\n",
       "\n",
       "    .dataframe thead th {\n",
       "        text-align: right;\n",
       "    }\n",
       "</style>\n",
       "<table border=\"1\" class=\"dataframe\">\n",
       "  <thead>\n",
       "    <tr style=\"text-align: right;\">\n",
       "      <th></th>\n",
       "      <th>loan_amnt</th>\n",
       "      <th>term</th>\n",
       "      <th>int_rate</th>\n",
       "      <th>emp_length</th>\n",
       "      <th>home_ownership</th>\n",
       "      <th>annual_inc</th>\n",
       "      <th>verification_status</th>\n",
       "      <th>loan_status</th>\n",
       "      <th>purpose</th>\n",
       "      <th>dti</th>\n",
       "      <th>open_acc</th>\n",
       "      <th>pub_rec</th>\n",
       "      <th>revol_bal</th>\n",
       "      <th>revol_util</th>\n",
       "      <th>total_acc</th>\n",
       "      <th>mort_acc</th>\n",
       "    </tr>\n",
       "  </thead>\n",
       "  <tbody>\n",
       "    <tr>\n",
       "      <th>0</th>\n",
       "      <td>10000.0</td>\n",
       "      <td>36</td>\n",
       "      <td>11.44</td>\n",
       "      <td>10</td>\n",
       "      <td>141326</td>\n",
       "      <td>1.202703</td>\n",
       "      <td>117413</td>\n",
       "      <td>1</td>\n",
       "      <td>2094</td>\n",
       "      <td>1.089146</td>\n",
       "      <td>16.0</td>\n",
       "      <td>0.0</td>\n",
       "      <td>1.434536</td>\n",
       "      <td>41.8</td>\n",
       "      <td>25.0</td>\n",
       "      <td>0.0</td>\n",
       "    </tr>\n",
       "    <tr>\n",
       "      <th>1</th>\n",
       "      <td>8000.0</td>\n",
       "      <td>36</td>\n",
       "      <td>11.99</td>\n",
       "      <td>4</td>\n",
       "      <td>173740</td>\n",
       "      <td>0.060161</td>\n",
       "      <td>117413</td>\n",
       "      <td>1</td>\n",
       "      <td>207128</td>\n",
       "      <td>0.623256</td>\n",
       "      <td>17.0</td>\n",
       "      <td>0.0</td>\n",
       "      <td>0.681703</td>\n",
       "      <td>53.3</td>\n",
       "      <td>27.0</td>\n",
       "      <td>3.0</td>\n",
       "    </tr>\n",
       "    <tr>\n",
       "      <th>2</th>\n",
       "      <td>15600.0</td>\n",
       "      <td>36</td>\n",
       "      <td>10.49</td>\n",
       "      <td>0</td>\n",
       "      <td>141326</td>\n",
       "      <td>-0.796125</td>\n",
       "      <td>117893</td>\n",
       "      <td>1</td>\n",
       "      <td>73637</td>\n",
       "      <td>-0.513208</td>\n",
       "      <td>13.0</td>\n",
       "      <td>0.0</td>\n",
       "      <td>0.079328</td>\n",
       "      <td>92.2</td>\n",
       "      <td>26.0</td>\n",
       "      <td>0.0</td>\n",
       "    </tr>\n",
       "    <tr>\n",
       "      <th>3</th>\n",
       "      <td>7200.0</td>\n",
       "      <td>36</td>\n",
       "      <td>6.49</td>\n",
       "      <td>6</td>\n",
       "      <td>141326</td>\n",
       "      <td>-0.319423</td>\n",
       "      <td>117413</td>\n",
       "      <td>1</td>\n",
       "      <td>73637</td>\n",
       "      <td>-2.120210</td>\n",
       "      <td>6.0</td>\n",
       "      <td>0.0</td>\n",
       "      <td>-0.739714</td>\n",
       "      <td>21.5</td>\n",
       "      <td>13.0</td>\n",
       "      <td>0.0</td>\n",
       "    </tr>\n",
       "    <tr>\n",
       "      <th>4</th>\n",
       "      <td>24375.0</td>\n",
       "      <td>60</td>\n",
       "      <td>17.27</td>\n",
       "      <td>9</td>\n",
       "      <td>173740</td>\n",
       "      <td>-0.281432</td>\n",
       "      <td>111005</td>\n",
       "      <td>0</td>\n",
       "      <td>73637</td>\n",
       "      <td>1.893119</td>\n",
       "      <td>13.0</td>\n",
       "      <td>0.0</td>\n",
       "      <td>0.927930</td>\n",
       "      <td>69.8</td>\n",
       "      <td>43.0</td>\n",
       "      <td>1.0</td>\n",
       "    </tr>\n",
       "  </tbody>\n",
       "</table>\n",
       "</div>"
      ],
      "text/plain": [
       "   loan_amnt  term  int_rate  emp_length  home_ownership  annual_inc  \\\n",
       "0    10000.0    36     11.44          10          141326    1.202703   \n",
       "1     8000.0    36     11.99           4          173740    0.060161   \n",
       "2    15600.0    36     10.49           0          141326   -0.796125   \n",
       "3     7200.0    36      6.49           6          141326   -0.319423   \n",
       "4    24375.0    60     17.27           9          173740   -0.281432   \n",
       "\n",
       "   verification_status  loan_status  purpose       dti  open_acc  pub_rec  \\\n",
       "0               117413            1     2094  1.089146      16.0      0.0   \n",
       "1               117413            1   207128  0.623256      17.0      0.0   \n",
       "2               117893            1    73637 -0.513208      13.0      0.0   \n",
       "3               117413            1    73637 -2.120210       6.0      0.0   \n",
       "4               111005            0    73637  1.893119      13.0      0.0   \n",
       "\n",
       "   revol_bal  revol_util  total_acc  mort_acc  \n",
       "0   1.434536        41.8       25.0       0.0  \n",
       "1   0.681703        53.3       27.0       3.0  \n",
       "2   0.079328        92.2       26.0       0.0  \n",
       "3  -0.739714        21.5       13.0       0.0  \n",
       "4   0.927930        69.8       43.0       1.0  "
      ]
     },
     "execution_count": 3,
     "metadata": {},
     "output_type": "execute_result"
    }
   ],
   "source": [
    "df0.head()"
   ]
  },
  {
   "cell_type": "code",
   "execution_count": 5,
   "metadata": {},
   "outputs": [
    {
     "data": {
      "text/plain": [
       "(346311, 16)"
      ]
     },
     "execution_count": 5,
     "metadata": {},
     "output_type": "execute_result"
    }
   ],
   "source": [
    "df0.shape"
   ]
  },
  {
   "cell_type": "code",
   "execution_count": 7,
   "metadata": {},
   "outputs": [],
   "source": [
    "X = df0.drop(columns=['loan_status'])\n",
    "X.reset_index(inplace=True, drop=True)\n",
    "y = df0['loan_status']\n",
    "y.reset_index(drop=True, inplace=True)\n",
    "\n",
    "# Step 1: Split data before standardization\n",
    "X_train, X_test, y_train, y_test = train_test_split(X, y, test_size=0.2, random_state=42, stratify=y)\n",
    "\n",
    "# Step 2: Standardize features\n",
    "scaler = StandardScaler()\n",
    "X_train_scaled = scaler.fit_transform(X_train)  # Fit & transform on training data\n",
    "X_test_scaled = scaler.transform(X_test)  # Only transform test data (NO fitting)\n"
   ]
  },
  {
   "cell_type": "code",
   "execution_count": 10,
   "metadata": {},
   "outputs": [
    {
     "name": "stdout",
     "output_type": "stream",
     "text": [
      "Before SMOTE: Counter({1: 224616, 0: 52432})\n",
      "After SMOTE: Counter({0: 224616, 1: 224616})\n"
     ]
    }
   ],
   "source": [
    "# Step 3: Apply SMOTE on the standardized training set\n",
    "smote = SMOTE(sampling_strategy='auto', random_state=42)\n",
    "X_train_resampled, y_train_resampled = smote.fit_resample(X_train_scaled, y_train)\n",
    "\n",
    "# Step 4: Print class distributions\n",
    "print(\"Before SMOTE:\", Counter(y_train))  \n",
    "print(\"After SMOTE:\", Counter(y_train_resampled)) "
   ]
  },
  {
   "cell_type": "code",
   "execution_count": 24,
   "metadata": {},
   "outputs": [
    {
     "data": {
      "text/plain": [
       "(449232, 15)"
      ]
     },
     "execution_count": 24,
     "metadata": {},
     "output_type": "execute_result"
    }
   ],
   "source": [
    "X_train_resampled.shape"
   ]
  },
  {
   "cell_type": "code",
   "execution_count": null,
   "metadata": {},
   "outputs": [],
   "source": []
  },
  {
   "cell_type": "code",
   "execution_count": null,
   "metadata": {},
   "outputs": [
    {
     "name": "stderr",
     "output_type": "stream",
     "text": [
      "[I 2025-03-16 17:59:46,630] A new study created in memory with name: no-name-e15eb489-33fd-46b0-901a-ee128ac5c303\n",
      "[I 2025-03-16 18:00:02,388] Trial 0 finished with value: 0.8997532625622422 and parameters: {'n_estimators': 250, 'max_depth': 15, 'min_samples_split': 3, 'max_features': 'sqrt'}. Best is trial 0 with value: 0.8997532625622422.\n",
      "[I 2025-03-16 18:00:04,325] Trial 1 finished with value: 0.8954791962159154 and parameters: {'n_estimators': 100, 'max_depth': 4, 'min_samples_split': 6, 'max_features': 'sqrt'}. Best is trial 0 with value: 0.8997532625622422.\n",
      "[I 2025-03-16 18:00:24,206] Trial 2 finished with value: 0.8980172337606758 and parameters: {'n_estimators': 350, 'max_depth': 13, 'min_samples_split': 5, 'max_features': 'log2'}. Best is trial 0 with value: 0.8997532625622422.\n",
      "[I 2025-03-16 18:00:46,429] Trial 3 finished with value: 0.8991127766679959 and parameters: {'n_estimators': 250, 'max_depth': 14, 'min_samples_split': 2, 'max_features': 'sqrt'}. Best is trial 0 with value: 0.8997532625622422.\n",
      "[I 2025-03-16 18:00:54,488] Trial 4 finished with value: 0.8975649015686462 and parameters: {'n_estimators': 150, 'max_depth': 13, 'min_samples_split': 9, 'max_features': 'log2'}. Best is trial 0 with value: 0.8997532625622422.\n",
      "[I 2025-03-16 18:00:56,221] Trial 5 finished with value: 0.8957039083349443 and parameters: {'n_estimators': 50, 'max_depth': 6, 'min_samples_split': 6, 'max_features': 'sqrt'}. Best is trial 0 with value: 0.8997532625622422.\n",
      "[I 2025-03-16 18:01:10,016] Trial 6 finished with value: 0.8979848385372872 and parameters: {'n_estimators': 250, 'max_depth': 13, 'min_samples_split': 4, 'max_features': 'log2'}. Best is trial 0 with value: 0.8997532625622422.\n",
      "[I 2025-03-16 18:01:24,647] Trial 7 finished with value: 0.8969074087846401 and parameters: {'n_estimators': 250, 'max_depth': 11, 'min_samples_split': 7, 'max_features': 'log2'}. Best is trial 0 with value: 0.8997532625622422.\n",
      "[I 2025-03-16 18:01:52,634] Trial 8 finished with value: 0.8982099183120853 and parameters: {'n_estimators': 450, 'max_depth': 14, 'min_samples_split': 10, 'max_features': 'sqrt'}. Best is trial 0 with value: 0.8997532625622422.\n",
      "[I 2025-03-16 18:02:26,956] Trial 9 finished with value: 0.8983867910990698 and parameters: {'n_estimators': 500, 'max_depth': 15, 'min_samples_split': 10, 'max_features': 'sqrt'}. Best is trial 0 with value: 0.8997532625622422.\n",
      "[I 2025-03-16 18:02:40,392] Trial 10 finished with value: 0.8964295651143268 and parameters: {'n_estimators': 350, 'max_depth': 9, 'min_samples_split': 2, 'max_features': 'sqrt'}. Best is trial 0 with value: 0.8997532625622422.\n",
      "[I 2025-03-16 18:02:51,133] Trial 11 finished with value: 0.8967795978650452 and parameters: {'n_estimators': 200, 'max_depth': 10, 'min_samples_split': 2, 'max_features': 'sqrt'}. Best is trial 0 with value: 0.8997532625622422.\n",
      "[I 2025-03-16 18:03:20,955] Trial 12 finished with value: 0.8998014995760535 and parameters: {'n_estimators': 350, 'max_depth': 15, 'min_samples_split': 3, 'max_features': 'sqrt'}. Best is trial 12 with value: 0.8998014995760535.\n",
      "[I 2025-03-16 18:03:36,190] Trial 13 finished with value: 0.8960223533637097 and parameters: {'n_estimators': 350, 'max_depth': 7, 'min_samples_split': 4, 'max_features': 'sqrt'}. Best is trial 12 with value: 0.8998014995760535.\n",
      "[I 2025-03-16 18:03:56,152] Trial 14 finished with value: 0.8970019070436133 and parameters: {'n_estimators': 400, 'max_depth': 11, 'min_samples_split': 4, 'max_features': 'sqrt'}. Best is trial 12 with value: 0.8998014995760535.\n",
      "[I 2025-03-16 18:04:13,553] Trial 15 finished with value: 0.8997253246867234 and parameters: {'n_estimators': 300, 'max_depth': 15, 'min_samples_split': 3, 'max_features': 'sqrt'}. Best is trial 12 with value: 0.8998014995760535.\n",
      "[I 2025-03-16 18:04:21,171] Trial 16 finished with value: 0.8978806377229143 and parameters: {'n_estimators': 150, 'max_depth': 12, 'min_samples_split': 3, 'max_features': 'sqrt'}. Best is trial 12 with value: 0.8998014995760535.\n",
      "[I 2025-03-16 18:04:37,698] Trial 17 finished with value: 0.8965443983445538 and parameters: {'n_estimators': 450, 'max_depth': 9, 'min_samples_split': 7, 'max_features': 'sqrt'}. Best is trial 12 with value: 0.8998014995760535.\n",
      "[I 2025-03-16 18:04:42,310] Trial 18 finished with value: 0.8954791962159154 and parameters: {'n_estimators': 300, 'max_depth': 3, 'min_samples_split': 5, 'max_features': 'log2'}. Best is trial 12 with value: 0.8998014995760535.\n",
      "[I 2025-03-16 18:04:54,295] Trial 19 finished with value: 0.8998429646374544 and parameters: {'n_estimators': 200, 'max_depth': 15, 'min_samples_split': 3, 'max_features': 'sqrt'}. Best is trial 19 with value: 0.8998429646374544.\n",
      "[I 2025-03-16 18:05:00,075] Trial 20 finished with value: 0.8958200183613877 and parameters: {'n_estimators': 150, 'max_depth': 7, 'min_samples_split': 8, 'max_features': 'sqrt'}. Best is trial 19 with value: 0.8998429646374544.\n",
      "[I 2025-03-16 18:05:12,878] Trial 21 finished with value: 0.8998429646374544 and parameters: {'n_estimators': 200, 'max_depth': 15, 'min_samples_split': 3, 'max_features': 'sqrt'}. Best is trial 19 with value: 0.8998429646374544.\n",
      "[I 2025-03-16 18:05:23,118] Trial 22 finished with value: 0.8990008889943424 and parameters: {'n_estimators': 200, 'max_depth': 14, 'min_samples_split': 3, 'max_features': 'sqrt'}. Best is trial 19 with value: 0.8998429646374544.\n",
      "[I 2025-03-16 18:05:35,382] Trial 23 finished with value: 0.8994448455621653 and parameters: {'n_estimators': 200, 'max_depth': 15, 'min_samples_split': 5, 'max_features': 'sqrt'}. Best is trial 19 with value: 0.8998429646374544.\n",
      "[I 2025-03-16 18:05:42,458] Trial 24 finished with value: 0.8976142747426962 and parameters: {'n_estimators': 100, 'max_depth': 12, 'min_samples_split': 4, 'max_features': 'sqrt'}. Best is trial 19 with value: 0.8998429646374544.\n",
      "[I 2025-03-16 18:06:01,940] Trial 25 finished with value: 0.8992523239843864 and parameters: {'n_estimators': 300, 'max_depth': 14, 'min_samples_split': 2, 'max_features': 'sqrt'}. Best is trial 19 with value: 0.8998429646374544.\n",
      "[I 2025-03-16 18:06:24,172] Trial 26 finished with value: 0.8978158599103319 and parameters: {'n_estimators': 400, 'max_depth': 12, 'min_samples_split': 3, 'max_features': 'log2'}. Best is trial 19 with value: 0.8998429646374544.\n",
      "[I 2025-03-16 18:06:32,328] Trial 27 finished with value: 0.8976935555726893 and parameters: {'n_estimators': 100, 'max_depth': 13, 'min_samples_split': 5, 'max_features': 'sqrt'}. Best is trial 19 with value: 0.8998429646374544.\n",
      "[I 2025-03-16 18:06:45,704] Trial 28 finished with value: 0.8996594542534324 and parameters: {'n_estimators': 200, 'max_depth': 15, 'min_samples_split': 4, 'max_features': 'sqrt'}. Best is trial 19 with value: 0.8998429646374544.\n",
      "[I 2025-03-16 18:07:03,042] Trial 29 finished with value: 0.8988164688166935 and parameters: {'n_estimators': 250, 'max_depth': 14, 'min_samples_split': 3, 'max_features': 'sqrt'}. Best is trial 19 with value: 0.8998429646374544.\n"
     ]
    },
    {
     "name": "stdout",
     "output_type": "stream",
     "text": [
      "Best Hyperparameters: {'n_estimators': 200, 'max_depth': 15, 'min_samples_split': 3, 'max_features': 'sqrt'}\n"
     ]
    }
   ],
   "source": [
    "import optuna\n",
    "from sklearn.ensemble import RandomForestClassifier\n",
    "from sklearn.model_selection import cross_val_score, StratifiedKFold\n",
    "# from optuna.integration import OptunaPruningCallback\n",
    "from sklearn.utils import resample\n",
    "\n",
    "# Reduce dataset size for trials\n",
    "X_train_sample, y_train_sample = resample(X_train, y_train, \n",
    "                                          n_samples=50000, \n",
    "                                          random_state=42, stratify=y_train)\n",
    "\n",
    "# Define Optuna objective function\n",
    "def objective(trial):\n",
    "    n_estimators = trial.suggest_int(\"n_estimators\", 50, 300, step=50)\n",
    "    max_depth = trial.suggest_int(\"max_depth\", 3, 15)\n",
    "    min_samples_split = trial.suggest_int(\"min_samples_split\", 2, 10)\n",
    "    # min_samples_leaf = trial.suggest_int(\"min_samples_leaf\", 1, 10)\n",
    "    max_features = trial.suggest_categorical(\"max_features\", [\"sqrt\", \"log2\"])\n",
    "\n",
    "    # Optimize CPU usage\n",
    "    # from multiprocessing import cpu_count\n",
    "    # n_cores = cpu_count() // 2\n",
    "\n",
    "    rf = RandomForestClassifier(\n",
    "        n_estimators=n_estimators,\n",
    "        max_depth=max_depth,\n",
    "        min_samples_split=min_samples_split,\n",
    "        # min_samples_leaf=min_samples_leaf,\n",
    "        max_features=max_features,\n",
    "        random_state=42,\n",
    "        n_jobs=-1\n",
    "    )\n",
    "\n",
    "    # Cross-validation with pruning\n",
    "    cv = StratifiedKFold(n_splits=2, shuffle=True, random_state=42)\n",
    "    # pruning_callback = OptunaPruningCallback(trial, \"f1\", interval=1)\n",
    "\n",
    "    score = cross_val_score(rf, X_train_sample, y_train_sample, \n",
    "                            cv=cv, scoring=\"f1\").mean()\n",
    "\n",
    "    return score\n",
    "\n",
    "# Use TPESampler for faster trials\n",
    "study = optuna.create_study(direction=\"maximize\", sampler=optuna.samplers.TPESampler())\n",
    "study.optimize(objective, n_trials=30)\n",
    "\n",
    "print(\"Best Hyperparameters:\", study.best_params)\n"
   ]
  },
  {
   "cell_type": "code",
   "execution_count": 28,
   "metadata": {},
   "outputs": [],
   "source": [
    "from imblearn.over_sampling import SMOTE\n",
    "\n",
    "smote = SMOTE(sampling_strategy='auto', random_state=42)\n",
    "X_test_resampled, y_test_resampled = smote.fit_resample(X_test_scaled, y_test)\n"
   ]
  },
  {
   "cell_type": "code",
   "execution_count": null,
   "metadata": {},
   "outputs": [
    {
     "name": "stdout",
     "output_type": "stream",
     "text": [
      "Train class distribution: [224616 224616]\n",
      "Test class distribution: [56155 56155]\n"
     ]
    }
   ],
   "source": [
    "import numpy as np\n",
    "print(\"Train class distribution:\", np.bincount(y_train_resampled))  # Train data target class distribution fter SMOTE\n",
    "print(\"Test class distribution:\", np.bincount(y_test_resampled))  # Test data target class distribution after SMOTE"
   ]
  },
  {
   "cell_type": "code",
   "execution_count": 30,
   "metadata": {},
   "outputs": [
    {
     "name": "stdout",
     "output_type": "stream",
     "text": [
      "Accuracy: 0.8012\n",
      "Precision: 0.7777\n",
      "Recall: 0.8434\n",
      "F1-score: 0.8092\n",
      "\n",
      "Classification Report:\n",
      "               precision    recall  f1-score   support\n",
      "\n",
      "           0       0.83      0.76      0.79     56155\n",
      "           1       0.78      0.84      0.81     56155\n",
      "\n",
      "    accuracy                           0.80    112310\n",
      "   macro avg       0.80      0.80      0.80    112310\n",
      "weighted avg       0.80      0.80      0.80    112310\n",
      "\n"
     ]
    }
   ],
   "source": [
    "from sklearn.metrics import accuracy_score, precision_score, recall_score, f1_score, classification_report\n",
    "\n",
    "# Train RF with best parameters\n",
    "best_params = study.best_params\n",
    "rf_best = RandomForestClassifier(class_weight=\"balanced\",**best_params, random_state=42, n_jobs=-1)\n",
    "\n",
    "rf_best.fit(X_train_resampled, y_train_resampled)\n",
    "\n",
    "# # Evaluate on validation set\n",
    "y_pred = rf_best.predict(X_test_resampled)\n",
    "\n",
    "# Step 3: Calculate performance metrics\n",
    "accuracy = accuracy_score(y_test_resampled, y_pred)\n",
    "precision = precision_score(y_test_resampled, y_pred, average=\"binary\")  # Use \"macro\" for multi-class\n",
    "recall = recall_score(y_test_resampled, y_pred, average=\"binary\")  # Use \"macro\" for multi-class\n",
    "f1 = f1_score(y_test_resampled, y_pred, average=\"binary\")  # Use \"macro\" for multi-class\n",
    "\n",
    "# Print results\n",
    "print(f\"Accuracy: {accuracy:.4f}\")\n",
    "print(f\"Precision: {precision:.4f}\")\n",
    "print(f\"Recall: {recall:.4f}\")\n",
    "print(f\"F1-score: {f1:.4f}\")\n",
    "\n",
    "# Optional: Full classification report\n",
    "print(\"\\nClassification Report:\\n\", classification_report(y_test_resampled, y_pred))\n",
    "\n"
   ]
  },
  {
   "cell_type": "code",
   "execution_count": 25,
   "metadata": {},
   "outputs": [
    {
     "name": "stdout",
     "output_type": "stream",
     "text": [
      "Train class distribution: [224616 224616]\n",
      "Test class distribution: [13108 56155]\n"
     ]
    }
   ],
   "source": [
    "import numpy as np\n",
    "print(\"Train class distribution:\", np.bincount(y_train_resampled))  # After SMOTE\n",
    "print(\"Test class distribution:\", np.bincount(y_test))  # Original test data\n"
   ]
  },
  {
   "cell_type": "code",
   "execution_count": null,
   "metadata": {},
   "outputs": [],
   "source": []
  }
 ],
 "metadata": {
  "kernelspec": {
   "display_name": "venv",
   "language": "python",
   "name": "python3"
  },
  "language_info": {
   "codemirror_mode": {
    "name": "ipython",
    "version": 3
   },
   "file_extension": ".py",
   "mimetype": "text/x-python",
   "name": "python",
   "nbconvert_exporter": "python",
   "pygments_lexer": "ipython3",
   "version": "3.13.2"
  }
 },
 "nbformat": 4,
 "nbformat_minor": 2
}
